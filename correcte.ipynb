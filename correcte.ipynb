{
  "nbformat": 4,
  "nbformat_minor": 0,
  "metadata": {
    "colab": {
      "name": "correcte.ipynb",
      "provenance": [],
      "collapsed_sections": []
    },
    "kernelspec": {
      "name": "python3",
      "display_name": "Python 3"
    }
  },
  "cells": [
    {
      "cell_type": "code",
      "metadata": {
        "id": "qnzxsrFNnpin",
        "outputId": "ec1eae02-8a9a-4490-fd6a-787ee3276002",
        "colab": {
          "base_uri": "https://localhost:8080/"
        }
      },
      "source": [
        "from google.colab import drive\n",
        "drive.mount('/content/drive')"
      ],
      "execution_count": 1,
      "outputs": [
        {
          "output_type": "stream",
          "text": [
            "Mounted at /content/drive\n"
          ],
          "name": "stdout"
        }
      ]
    },
    {
      "cell_type": "code",
      "metadata": {
        "id": "ZAIl9G_rnXBP",
        "outputId": "56094dba-e2cc-4edc-e4d2-098a054c066a",
        "colab": {
          "base_uri": "https://localhost:8080/"
        }
      },
      "source": [
        "\n",
        "import numpy as np # linear algebra\n",
        "import pandas as pd # data processing, CSV file I/O (e.g. pd.read_csv)\n",
        "%matplotlib inline\n",
        "import matplotlib.pyplot as plt\n",
        "plt.style.use('ggplot')\n",
        "from sklearn.feature_selection import SelectKBest,chi2,RFECV\n",
        "import seaborn as sns\n",
        "import time\n",
        "\n",
        "# Input data files are available in the read-only \"../input/\" directory\n",
        "# For example, running this (by clicking run or pressing Shift+Enter) will list all files under the input directory\n",
        "\n",
        "import os\n",
        "for dirname, _, filenames in os.walk('/content/drive/My Drive/precision'):\n",
        "    for filename in filenames:\n",
        "        print(os.path.join(dirname, filename))"
      ],
      "execution_count": 2,
      "outputs": [
        {
          "output_type": "stream",
          "text": [
            "/content/drive/My Drive/precision/data.csv\n",
            "/content/drive/My Drive/precision/precision.ipynb\n"
          ],
          "name": "stdout"
        }
      ]
    },
    {
      "cell_type": "code",
      "metadata": {
        "id": "lNCQCwGtnhD_",
        "outputId": "fbb67a26-4610-4b4b-a32f-9675fc0f562c",
        "colab": {
          "base_uri": "https://localhost:8080/",
          "height": 921
        }
      },
      "source": [
        "df = pd.read_csv(\"/content/drive/My Drive/precision/data.csv\")\n",
        "df.info()\n",
        "df.head()"
      ],
      "execution_count": 3,
      "outputs": [
        {
          "output_type": "stream",
          "text": [
            "<class 'pandas.core.frame.DataFrame'>\n",
            "RangeIndex: 569 entries, 0 to 568\n",
            "Data columns (total 33 columns):\n",
            " #   Column                   Non-Null Count  Dtype  \n",
            "---  ------                   --------------  -----  \n",
            " 0   id                       569 non-null    int64  \n",
            " 1   diagnosis                569 non-null    object \n",
            " 2   radius_mean              569 non-null    float64\n",
            " 3   texture_mean             569 non-null    float64\n",
            " 4   perimeter_mean           569 non-null    float64\n",
            " 5   area_mean                569 non-null    float64\n",
            " 6   smoothness_mean          569 non-null    float64\n",
            " 7   compactness_mean         569 non-null    float64\n",
            " 8   concavity_mean           569 non-null    float64\n",
            " 9   concave points_mean      569 non-null    float64\n",
            " 10  symmetry_mean            569 non-null    float64\n",
            " 11  fractal_dimension_mean   569 non-null    float64\n",
            " 12  radius_se                569 non-null    float64\n",
            " 13  texture_se               569 non-null    float64\n",
            " 14  perimeter_se             569 non-null    float64\n",
            " 15  area_se                  569 non-null    float64\n",
            " 16  smoothness_se            569 non-null    float64\n",
            " 17  compactness_se           569 non-null    float64\n",
            " 18  concavity_se             569 non-null    float64\n",
            " 19  concave points_se        569 non-null    float64\n",
            " 20  symmetry_se              569 non-null    float64\n",
            " 21  fractal_dimension_se     569 non-null    float64\n",
            " 22  radius_worst             569 non-null    float64\n",
            " 23  texture_worst            569 non-null    float64\n",
            " 24  perimeter_worst          569 non-null    float64\n",
            " 25  area_worst               569 non-null    float64\n",
            " 26  smoothness_worst         569 non-null    float64\n",
            " 27  compactness_worst        569 non-null    float64\n",
            " 28  concavity_worst          569 non-null    float64\n",
            " 29  concave points_worst     569 non-null    float64\n",
            " 30  symmetry_worst           569 non-null    float64\n",
            " 31  fractal_dimension_worst  569 non-null    float64\n",
            " 32  Unnamed: 32              0 non-null      float64\n",
            "dtypes: float64(31), int64(1), object(1)\n",
            "memory usage: 146.8+ KB\n"
          ],
          "name": "stdout"
        },
        {
          "output_type": "execute_result",
          "data": {
            "text/html": [
              "<div>\n",
              "<style scoped>\n",
              "    .dataframe tbody tr th:only-of-type {\n",
              "        vertical-align: middle;\n",
              "    }\n",
              "\n",
              "    .dataframe tbody tr th {\n",
              "        vertical-align: top;\n",
              "    }\n",
              "\n",
              "    .dataframe thead th {\n",
              "        text-align: right;\n",
              "    }\n",
              "</style>\n",
              "<table border=\"1\" class=\"dataframe\">\n",
              "  <thead>\n",
              "    <tr style=\"text-align: right;\">\n",
              "      <th></th>\n",
              "      <th>id</th>\n",
              "      <th>diagnosis</th>\n",
              "      <th>radius_mean</th>\n",
              "      <th>texture_mean</th>\n",
              "      <th>perimeter_mean</th>\n",
              "      <th>area_mean</th>\n",
              "      <th>smoothness_mean</th>\n",
              "      <th>compactness_mean</th>\n",
              "      <th>concavity_mean</th>\n",
              "      <th>concave points_mean</th>\n",
              "      <th>symmetry_mean</th>\n",
              "      <th>fractal_dimension_mean</th>\n",
              "      <th>radius_se</th>\n",
              "      <th>texture_se</th>\n",
              "      <th>perimeter_se</th>\n",
              "      <th>area_se</th>\n",
              "      <th>smoothness_se</th>\n",
              "      <th>compactness_se</th>\n",
              "      <th>concavity_se</th>\n",
              "      <th>concave points_se</th>\n",
              "      <th>symmetry_se</th>\n",
              "      <th>fractal_dimension_se</th>\n",
              "      <th>radius_worst</th>\n",
              "      <th>texture_worst</th>\n",
              "      <th>perimeter_worst</th>\n",
              "      <th>area_worst</th>\n",
              "      <th>smoothness_worst</th>\n",
              "      <th>compactness_worst</th>\n",
              "      <th>concavity_worst</th>\n",
              "      <th>concave points_worst</th>\n",
              "      <th>symmetry_worst</th>\n",
              "      <th>fractal_dimension_worst</th>\n",
              "      <th>Unnamed: 32</th>\n",
              "    </tr>\n",
              "  </thead>\n",
              "  <tbody>\n",
              "    <tr>\n",
              "      <th>0</th>\n",
              "      <td>842302</td>\n",
              "      <td>M</td>\n",
              "      <td>17.99</td>\n",
              "      <td>10.38</td>\n",
              "      <td>122.80</td>\n",
              "      <td>1001.0</td>\n",
              "      <td>0.11840</td>\n",
              "      <td>0.27760</td>\n",
              "      <td>0.3001</td>\n",
              "      <td>0.14710</td>\n",
              "      <td>0.2419</td>\n",
              "      <td>0.07871</td>\n",
              "      <td>1.0950</td>\n",
              "      <td>0.9053</td>\n",
              "      <td>8.589</td>\n",
              "      <td>153.40</td>\n",
              "      <td>0.006399</td>\n",
              "      <td>0.04904</td>\n",
              "      <td>0.05373</td>\n",
              "      <td>0.01587</td>\n",
              "      <td>0.03003</td>\n",
              "      <td>0.006193</td>\n",
              "      <td>25.38</td>\n",
              "      <td>17.33</td>\n",
              "      <td>184.60</td>\n",
              "      <td>2019.0</td>\n",
              "      <td>0.1622</td>\n",
              "      <td>0.6656</td>\n",
              "      <td>0.7119</td>\n",
              "      <td>0.2654</td>\n",
              "      <td>0.4601</td>\n",
              "      <td>0.11890</td>\n",
              "      <td>NaN</td>\n",
              "    </tr>\n",
              "    <tr>\n",
              "      <th>1</th>\n",
              "      <td>842517</td>\n",
              "      <td>M</td>\n",
              "      <td>20.57</td>\n",
              "      <td>17.77</td>\n",
              "      <td>132.90</td>\n",
              "      <td>1326.0</td>\n",
              "      <td>0.08474</td>\n",
              "      <td>0.07864</td>\n",
              "      <td>0.0869</td>\n",
              "      <td>0.07017</td>\n",
              "      <td>0.1812</td>\n",
              "      <td>0.05667</td>\n",
              "      <td>0.5435</td>\n",
              "      <td>0.7339</td>\n",
              "      <td>3.398</td>\n",
              "      <td>74.08</td>\n",
              "      <td>0.005225</td>\n",
              "      <td>0.01308</td>\n",
              "      <td>0.01860</td>\n",
              "      <td>0.01340</td>\n",
              "      <td>0.01389</td>\n",
              "      <td>0.003532</td>\n",
              "      <td>24.99</td>\n",
              "      <td>23.41</td>\n",
              "      <td>158.80</td>\n",
              "      <td>1956.0</td>\n",
              "      <td>0.1238</td>\n",
              "      <td>0.1866</td>\n",
              "      <td>0.2416</td>\n",
              "      <td>0.1860</td>\n",
              "      <td>0.2750</td>\n",
              "      <td>0.08902</td>\n",
              "      <td>NaN</td>\n",
              "    </tr>\n",
              "    <tr>\n",
              "      <th>2</th>\n",
              "      <td>84300903</td>\n",
              "      <td>M</td>\n",
              "      <td>19.69</td>\n",
              "      <td>21.25</td>\n",
              "      <td>130.00</td>\n",
              "      <td>1203.0</td>\n",
              "      <td>0.10960</td>\n",
              "      <td>0.15990</td>\n",
              "      <td>0.1974</td>\n",
              "      <td>0.12790</td>\n",
              "      <td>0.2069</td>\n",
              "      <td>0.05999</td>\n",
              "      <td>0.7456</td>\n",
              "      <td>0.7869</td>\n",
              "      <td>4.585</td>\n",
              "      <td>94.03</td>\n",
              "      <td>0.006150</td>\n",
              "      <td>0.04006</td>\n",
              "      <td>0.03832</td>\n",
              "      <td>0.02058</td>\n",
              "      <td>0.02250</td>\n",
              "      <td>0.004571</td>\n",
              "      <td>23.57</td>\n",
              "      <td>25.53</td>\n",
              "      <td>152.50</td>\n",
              "      <td>1709.0</td>\n",
              "      <td>0.1444</td>\n",
              "      <td>0.4245</td>\n",
              "      <td>0.4504</td>\n",
              "      <td>0.2430</td>\n",
              "      <td>0.3613</td>\n",
              "      <td>0.08758</td>\n",
              "      <td>NaN</td>\n",
              "    </tr>\n",
              "    <tr>\n",
              "      <th>3</th>\n",
              "      <td>84348301</td>\n",
              "      <td>M</td>\n",
              "      <td>11.42</td>\n",
              "      <td>20.38</td>\n",
              "      <td>77.58</td>\n",
              "      <td>386.1</td>\n",
              "      <td>0.14250</td>\n",
              "      <td>0.28390</td>\n",
              "      <td>0.2414</td>\n",
              "      <td>0.10520</td>\n",
              "      <td>0.2597</td>\n",
              "      <td>0.09744</td>\n",
              "      <td>0.4956</td>\n",
              "      <td>1.1560</td>\n",
              "      <td>3.445</td>\n",
              "      <td>27.23</td>\n",
              "      <td>0.009110</td>\n",
              "      <td>0.07458</td>\n",
              "      <td>0.05661</td>\n",
              "      <td>0.01867</td>\n",
              "      <td>0.05963</td>\n",
              "      <td>0.009208</td>\n",
              "      <td>14.91</td>\n",
              "      <td>26.50</td>\n",
              "      <td>98.87</td>\n",
              "      <td>567.7</td>\n",
              "      <td>0.2098</td>\n",
              "      <td>0.8663</td>\n",
              "      <td>0.6869</td>\n",
              "      <td>0.2575</td>\n",
              "      <td>0.6638</td>\n",
              "      <td>0.17300</td>\n",
              "      <td>NaN</td>\n",
              "    </tr>\n",
              "    <tr>\n",
              "      <th>4</th>\n",
              "      <td>84358402</td>\n",
              "      <td>M</td>\n",
              "      <td>20.29</td>\n",
              "      <td>14.34</td>\n",
              "      <td>135.10</td>\n",
              "      <td>1297.0</td>\n",
              "      <td>0.10030</td>\n",
              "      <td>0.13280</td>\n",
              "      <td>0.1980</td>\n",
              "      <td>0.10430</td>\n",
              "      <td>0.1809</td>\n",
              "      <td>0.05883</td>\n",
              "      <td>0.7572</td>\n",
              "      <td>0.7813</td>\n",
              "      <td>5.438</td>\n",
              "      <td>94.44</td>\n",
              "      <td>0.011490</td>\n",
              "      <td>0.02461</td>\n",
              "      <td>0.05688</td>\n",
              "      <td>0.01885</td>\n",
              "      <td>0.01756</td>\n",
              "      <td>0.005115</td>\n",
              "      <td>22.54</td>\n",
              "      <td>16.67</td>\n",
              "      <td>152.20</td>\n",
              "      <td>1575.0</td>\n",
              "      <td>0.1374</td>\n",
              "      <td>0.2050</td>\n",
              "      <td>0.4000</td>\n",
              "      <td>0.1625</td>\n",
              "      <td>0.2364</td>\n",
              "      <td>0.07678</td>\n",
              "      <td>NaN</td>\n",
              "    </tr>\n",
              "  </tbody>\n",
              "</table>\n",
              "</div>"
            ],
            "text/plain": [
              "         id diagnosis  ...  fractal_dimension_worst  Unnamed: 32\n",
              "0    842302         M  ...                  0.11890          NaN\n",
              "1    842517         M  ...                  0.08902          NaN\n",
              "2  84300903         M  ...                  0.08758          NaN\n",
              "3  84348301         M  ...                  0.17300          NaN\n",
              "4  84358402         M  ...                  0.07678          NaN\n",
              "\n",
              "[5 rows x 33 columns]"
            ]
          },
          "metadata": {
            "tags": []
          },
          "execution_count": 3
        }
      ]
    },
    {
      "cell_type": "code",
      "metadata": {
        "id": "FfVWDnvwxGmo"
      },
      "source": [
        "#Separating target from features\n",
        "col = df.columns\n",
        "y = df['diagnosis']\n",
        "X = col_drop = ['id','diagnosis','Unnamed: 32']\n",
        "x = df.drop(col_drop,axis=1)"
      ],
      "execution_count": 4,
      "outputs": []
    },
    {
      "cell_type": "code",
      "metadata": {
        "id": "1--0NGS4xyal",
        "outputId": "7d5443a7-d601-4ce4-9d22-84b75173a03e",
        "colab": {
          "base_uri": "https://localhost:8080/",
          "height": 370
        }
      },
      "source": [
        "#Plot Diagnosis Distribution\n",
        "ax = sns.countplot(y,label=\"Count\",palette=\"RdBu_r\")\n",
        "B,M = y.value_counts()\n",
        "print(\"Number of Benign Tumors: \",B)\n",
        "print(\"Number of Malign Tumors: \",M)"
      ],
      "execution_count": 5,
      "outputs": [
        {
          "output_type": "stream",
          "text": [
            "Number of Benign Tumors:  357\n",
            "Number of Malign Tumors:  212\n"
          ],
          "name": "stdout"
        },
        {
          "output_type": "stream",
          "text": [
            "/usr/local/lib/python3.6/dist-packages/seaborn/_decorators.py:43: FutureWarning: Pass the following variable as a keyword arg: x. From version 0.12, the only valid positional argument will be `data`, and passing other arguments without an explicit keyword will result in an error or misinterpretation.\n",
            "  FutureWarning\n"
          ],
          "name": "stderr"
        },
        {
          "output_type": "display_data",
          "data": {
            "image/png": "[encoded data removed]",
            "text/plain": [
              "<Figure size 432x288 with 1 Axes>"
            ]
          },
          "metadata": {
            "tags": []
          }
        }
      ]
    },
    {
      "cell_type": "code",
      "metadata": {
        "id": "fhJ3TCpcx7r7",
        "outputId": "deee6f2f-3103-4138-fa70-9a81e024bbbb",
        "colab": {
          "base_uri": "https://localhost:8080/",
          "height": 248
        }
      },
      "source": [
        "fig1, ax1 = plt.subplots()\n",
        "ax1.pie([M,B], labels=[\"Suffering from M type canceer\",\"Suffering from B type cancer\"], autopct='%1.1f%%',\n",
        "        shadow=True, startangle=90)\n",
        "ax1.axis('equal')  # Equal aspect ratio ensures that pie is drawn as a circle.\n",
        "\n",
        "plt.show()"
      ],
      "execution_count": 6,
      "outputs": [
        {
          "output_type": "display_data",
          "data": {
            "image/png": "[encoded data removed]",
            "text/plain": [
              "<Figure size 432x288 with 1 Axes>"
            ]
          },
          "metadata": {
            "tags": []
          }
        }
      ]
    },
    {
      "cell_type": "code",
      "metadata": {
        "id": "lpWk5lP3ooSA",
        "outputId": "4a94280e-bc2b-4e8e-e042-d22d5d2f8771",
        "colab": {
          "base_uri": "https://localhost:8080/"
        }
      },
      "source": [
        "df.info()"
      ],
      "execution_count": 7,
      "outputs": [
        {
          "output_type": "stream",
          "text": [
            "<class 'pandas.core.frame.DataFrame'>\n",
            "RangeIndex: 569 entries, 0 to 568\n",
            "Data columns (total 33 columns):\n",
            " #   Column                   Non-Null Count  Dtype  \n",
            "---  ------                   --------------  -----  \n",
            " 0   id                       569 non-null    int64  \n",
            " 1   diagnosis                569 non-null    object \n",
            " 2   radius_mean              569 non-null    float64\n",
            " 3   texture_mean             569 non-null    float64\n",
            " 4   perimeter_mean           569 non-null    float64\n",
            " 5   area_mean                569 non-null    float64\n",
            " 6   smoothness_mean          569 non-null    float64\n",
            " 7   compactness_mean         569 non-null    float64\n",
            " 8   concavity_mean           569 non-null    float64\n",
            " 9   concave points_mean      569 non-null    float64\n",
            " 10  symmetry_mean            569 non-null    float64\n",
            " 11  fractal_dimension_mean   569 non-null    float64\n",
            " 12  radius_se                569 non-null    float64\n",
            " 13  texture_se               569 non-null    float64\n",
            " 14  perimeter_se             569 non-null    float64\n",
            " 15  area_se                  569 non-null    float64\n",
            " 16  smoothness_se            569 non-null    float64\n",
            " 17  compactness_se           569 non-null    float64\n",
            " 18  concavity_se             569 non-null    float64\n",
            " 19  concave points_se        569 non-null    float64\n",
            " 20  symmetry_se              569 non-null    float64\n",
            " 21  fractal_dimension_se     569 non-null    float64\n",
            " 22  radius_worst             569 non-null    float64\n",
            " 23  texture_worst            569 non-null    float64\n",
            " 24  perimeter_worst          569 non-null    float64\n",
            " 25  area_worst               569 non-null    float64\n",
            " 26  smoothness_worst         569 non-null    float64\n",
            " 27  compactness_worst        569 non-null    float64\n",
            " 28  concavity_worst          569 non-null    float64\n",
            " 29  concave points_worst     569 non-null    float64\n",
            " 30  symmetry_worst           569 non-null    float64\n",
            " 31  fractal_dimension_worst  569 non-null    float64\n",
            " 32  Unnamed: 32              0 non-null      float64\n",
            "dtypes: float64(31), int64(1), object(1)\n",
            "memory usage: 146.8+ KB\n"
          ],
          "name": "stdout"
        }
      ]
    },
    {
      "cell_type": "code",
      "metadata": {
        "id": "GiReQrpsoo7X",
        "outputId": "983d1c8b-b2f6-4180-d074-50ef3880d04a",
        "colab": {
          "base_uri": "https://localhost:8080/"
        }
      },
      "source": [
        "df.dtypes"
      ],
      "execution_count": 8,
      "outputs": [
        {
          "output_type": "execute_result",
          "data": {
            "text/plain": [
              "id                           int64\n",
              "diagnosis                   object\n",
              "radius_mean                float64\n",
              "texture_mean               float64\n",
              "perimeter_mean             float64\n",
              "area_mean                  float64\n",
              "smoothness_mean            float64\n",
              "compactness_mean           float64\n",
              "concavity_mean             float64\n",
              "concave points_mean        float64\n",
              "symmetry_mean              float64\n",
              "fractal_dimension_mean     float64\n",
              "radius_se                  float64\n",
              "texture_se                 float64\n",
              "perimeter_se               float64\n",
              "area_se                    float64\n",
              "smoothness_se              float64\n",
              "compactness_se             float64\n",
              "concavity_se               float64\n",
              "concave points_se          float64\n",
              "symmetry_se                float64\n",
              "fractal_dimension_se       float64\n",
              "radius_worst               float64\n",
              "texture_worst              float64\n",
              "perimeter_worst            float64\n",
              "area_worst                 float64\n",
              "smoothness_worst           float64\n",
              "compactness_worst          float64\n",
              "concavity_worst            float64\n",
              "concave points_worst       float64\n",
              "symmetry_worst             float64\n",
              "fractal_dimension_worst    float64\n",
              "Unnamed: 32                float64\n",
              "dtype: object"
            ]
          },
          "metadata": {
            "tags": []
          },
          "execution_count": 8
        }
      ]
    },
    {
      "cell_type": "code",
      "metadata": {
        "id": "83cNMfuaosq1",
        "outputId": "f40bb7e5-7609-44d2-a64f-c42aa7283ad8",
        "colab": {
          "base_uri": "https://localhost:8080/",
          "height": 334
        }
      },
      "source": [
        "x.describe()"
      ],
      "execution_count": 9,
      "outputs": [
        {
          "output_type": "execute_result",
          "data": {
            "text/html": [
              "<div>\n",
              "<style scoped>\n",
              "    .dataframe tbody tr th:only-of-type {\n",
              "        vertical-align: middle;\n",
              "    }\n",
              "\n",
              "    .dataframe tbody tr th {\n",
              "        vertical-align: top;\n",
              "    }\n",
              "\n",
              "    .dataframe thead th {\n",
              "        text-align: right;\n",
              "    }\n",
              "</style>\n",
              "<table border=\"1\" class=\"dataframe\">\n",
              "  <thead>\n",
              "    <tr style=\"text-align: right;\">\n",
              "      <th></th>\n",
              "      <th>radius_mean</th>\n",
              "      <th>texture_mean</th>\n",
              "      <th>perimeter_mean</th>\n",
              "      <th>area_mean</th>\n",
              "      <th>smoothness_mean</th>\n",
              "      <th>compactness_mean</th>\n",
              "      <th>concavity_mean</th>\n",
              "      <th>concave points_mean</th>\n",
              "      <th>symmetry_mean</th>\n",
              "      <th>fractal_dimension_mean</th>\n",
              "      <th>radius_se</th>\n",
              "      <th>texture_se</th>\n",
              "      <th>perimeter_se</th>\n",
              "      <th>area_se</th>\n",
              "      <th>smoothness_se</th>\n",
              "      <th>compactness_se</th>\n",
              "      <th>concavity_se</th>\n",
              "      <th>concave points_se</th>\n",
              "      <th>symmetry_se</th>\n",
              "      <th>fractal_dimension_se</th>\n",
              "      <th>radius_worst</th>\n",
              "      <th>texture_worst</th>\n",
              "      <th>perimeter_worst</th>\n",
              "      <th>area_worst</th>\n",
              "      <th>smoothness_worst</th>\n",
              "      <th>compactness_worst</th>\n",
              "      <th>concavity_worst</th>\n",
              "      <th>concave points_worst</th>\n",
              "      <th>symmetry_worst</th>\n",
              "      <th>fractal_dimension_worst</th>\n",
              "    </tr>\n",
              "  </thead>\n",
              "  <tbody>\n",
              "    <tr>\n",
              "      <th>count</th>\n",
              "      <td>569.000000</td>\n",
              "      <td>569.000000</td>\n",
              "      <td>569.000000</td>\n",
              "      <td>569.000000</td>\n",
              "      <td>569.000000</td>\n",
              "      <td>569.000000</td>\n",
              "      <td>569.000000</td>\n",
              "      <td>569.000000</td>\n",
              "      <td>569.000000</td>\n",
              "      <td>569.000000</td>\n",
              "      <td>569.000000</td>\n",
              "      <td>569.000000</td>\n",
              "      <td>569.000000</td>\n",
              "      <td>569.000000</td>\n",
              "      <td>569.000000</td>\n",
              "      <td>569.000000</td>\n",
              "      <td>569.000000</td>\n",
              "      <td>569.000000</td>\n",
              "      <td>569.000000</td>\n",
              "      <td>569.000000</td>\n",
              "      <td>569.000000</td>\n",
              "      <td>569.000000</td>\n",
              "      <td>569.000000</td>\n",
              "      <td>569.000000</td>\n",
              "      <td>569.000000</td>\n",
              "      <td>569.000000</td>\n",
              "      <td>569.000000</td>\n",
              "      <td>569.000000</td>\n",
              "      <td>569.000000</td>\n",
              "      <td>569.000000</td>\n",
              "    </tr>\n",
              "    <tr>\n",
              "      <th>mean</th>\n",
              "      <td>14.127292</td>\n",
              "      <td>19.289649</td>\n",
              "      <td>91.969033</td>\n",
              "      <td>654.889104</td>\n",
              "      <td>0.096360</td>\n",
              "      <td>0.104341</td>\n",
              "      <td>0.088799</td>\n",
              "      <td>0.048919</td>\n",
              "      <td>0.181162</td>\n",
              "      <td>0.062798</td>\n",
              "      <td>0.405172</td>\n",
              "      <td>1.216853</td>\n",
              "      <td>2.866059</td>\n",
              "      <td>40.337079</td>\n",
              "      <td>0.007041</td>\n",
              "      <td>0.025478</td>\n",
              "      <td>0.031894</td>\n",
              "      <td>0.011796</td>\n",
              "      <td>0.020542</td>\n",
              "      <td>0.003795</td>\n",
              "      <td>16.269190</td>\n",
              "      <td>25.677223</td>\n",
              "      <td>107.261213</td>\n",
              "      <td>880.583128</td>\n",
              "      <td>0.132369</td>\n",
              "      <td>0.254265</td>\n",
              "      <td>0.272188</td>\n",
              "      <td>0.114606</td>\n",
              "      <td>0.290076</td>\n",
              "      <td>0.083946</td>\n",
              "    </tr>\n",
              "    <tr>\n",
              "      <th>std</th>\n",
              "      <td>3.524049</td>\n",
              "      <td>4.301036</td>\n",
              "      <td>24.298981</td>\n",
              "      <td>351.914129</td>\n",
              "      <td>0.014064</td>\n",
              "      <td>0.052813</td>\n",
              "      <td>0.079720</td>\n",
              "      <td>0.038803</td>\n",
              "      <td>0.027414</td>\n",
              "      <td>0.007060</td>\n",
              "      <td>0.277313</td>\n",
              "      <td>0.551648</td>\n",
              "      <td>2.021855</td>\n",
              "      <td>45.491006</td>\n",
              "      <td>0.003003</td>\n",
              "      <td>0.017908</td>\n",
              "      <td>0.030186</td>\n",
              "      <td>0.006170</td>\n",
              "      <td>0.008266</td>\n",
              "      <td>0.002646</td>\n",
              "      <td>4.833242</td>\n",
              "      <td>6.146258</td>\n",
              "      <td>33.602542</td>\n",
              "      <td>569.356993</td>\n",
              "      <td>0.022832</td>\n",
              "      <td>0.157336</td>\n",
              "      <td>0.208624</td>\n",
              "      <td>0.065732</td>\n",
              "      <td>0.061867</td>\n",
              "      <td>0.018061</td>\n",
              "    </tr>\n",
              "    <tr>\n",
              "      <th>min</th>\n",
              "      <td>6.981000</td>\n",
              "      <td>9.710000</td>\n",
              "      <td>43.790000</td>\n",
              "      <td>143.500000</td>\n",
              "      <td>0.052630</td>\n",
              "      <td>0.019380</td>\n",
              "      <td>0.000000</td>\n",
              "      <td>0.000000</td>\n",
              "      <td>0.106000</td>\n",
              "      <td>0.049960</td>\n",
              "      <td>0.111500</td>\n",
              "      <td>0.360200</td>\n",
              "      <td>0.757000</td>\n",
              "      <td>6.802000</td>\n",
              "      <td>0.001713</td>\n",
              "      <td>0.002252</td>\n",
              "      <td>0.000000</td>\n",
              "      <td>0.000000</td>\n",
              "      <td>0.007882</td>\n",
              "      <td>0.000895</td>\n",
              "      <td>7.930000</td>\n",
              "      <td>12.020000</td>\n",
              "      <td>50.410000</td>\n",
              "      <td>185.200000</td>\n",
              "      <td>0.071170</td>\n",
              "      <td>0.027290</td>\n",
              "      <td>0.000000</td>\n",
              "      <td>0.000000</td>\n",
              "      <td>0.156500</td>\n",
              "      <td>0.055040</td>\n",
              "    </tr>\n",
              "    <tr>\n",
              "      <th>25%</th>\n",
              "      <td>11.700000</td>\n",
              "      <td>16.170000</td>\n",
              "      <td>75.170000</td>\n",
              "      <td>420.300000</td>\n",
              "      <td>0.086370</td>\n",
              "      <td>0.064920</td>\n",
              "      <td>0.029560</td>\n",
              "      <td>0.020310</td>\n",
              "      <td>0.161900</td>\n",
              "      <td>0.057700</td>\n",
              "      <td>0.232400</td>\n",
              "      <td>0.833900</td>\n",
              "      <td>1.606000</td>\n",
              "      <td>17.850000</td>\n",
              "      <td>0.005169</td>\n",
              "      <td>0.013080</td>\n",
              "      <td>0.015090</td>\n",
              "      <td>0.007638</td>\n",
              "      <td>0.015160</td>\n",
              "      <td>0.002248</td>\n",
              "      <td>13.010000</td>\n",
              "      <td>21.080000</td>\n",
              "      <td>84.110000</td>\n",
              "      <td>515.300000</td>\n",
              "      <td>0.116600</td>\n",
              "      <td>0.147200</td>\n",
              "      <td>0.114500</td>\n",
              "      <td>0.064930</td>\n",
              "      <td>0.250400</td>\n",
              "      <td>0.071460</td>\n",
              "    </tr>\n",
              "    <tr>\n",
              "      <th>50%</th>\n",
              "      <td>13.370000</td>\n",
              "      <td>18.840000</td>\n",
              "      <td>86.240000</td>\n",
              "      <td>551.100000</td>\n",
              "      <td>0.095870</td>\n",
              "      <td>0.092630</td>\n",
              "      <td>0.061540</td>\n",
              "      <td>0.033500</td>\n",
              "      <td>0.179200</td>\n",
              "      <td>0.061540</td>\n",
              "      <td>0.324200</td>\n",
              "      <td>1.108000</td>\n",
              "      <td>2.287000</td>\n",
              "      <td>24.530000</td>\n",
              "      <td>0.006380</td>\n",
              "      <td>0.020450</td>\n",
              "      <td>0.025890</td>\n",
              "      <td>0.010930</td>\n",
              "      <td>0.018730</td>\n",
              "      <td>0.003187</td>\n",
              "      <td>14.970000</td>\n",
              "      <td>25.410000</td>\n",
              "      <td>97.660000</td>\n",
              "      <td>686.500000</td>\n",
              "      <td>0.131300</td>\n",
              "      <td>0.211900</td>\n",
              "      <td>0.226700</td>\n",
              "      <td>0.099930</td>\n",
              "      <td>0.282200</td>\n",
              "      <td>0.080040</td>\n",
              "    </tr>\n",
              "    <tr>\n",
              "      <th>75%</th>\n",
              "      <td>15.780000</td>\n",
              "      <td>21.800000</td>\n",
              "      <td>104.100000</td>\n",
              "      <td>782.700000</td>\n",
              "      <td>0.105300</td>\n",
              "      <td>0.130400</td>\n",
              "      <td>0.130700</td>\n",
              "      <td>0.074000</td>\n",
              "      <td>0.195700</td>\n",
              "      <td>0.066120</td>\n",
              "      <td>0.478900</td>\n",
              "      <td>1.474000</td>\n",
              "      <td>3.357000</td>\n",
              "      <td>45.190000</td>\n",
              "      <td>0.008146</td>\n",
              "      <td>0.032450</td>\n",
              "      <td>0.042050</td>\n",
              "      <td>0.014710</td>\n",
              "      <td>0.023480</td>\n",
              "      <td>0.004558</td>\n",
              "      <td>18.790000</td>\n",
              "      <td>29.720000</td>\n",
              "      <td>125.400000</td>\n",
              "      <td>1084.000000</td>\n",
              "      <td>0.146000</td>\n",
              "      <td>0.339100</td>\n",
              "      <td>0.382900</td>\n",
              "      <td>0.161400</td>\n",
              "      <td>0.317900</td>\n",
              "      <td>0.092080</td>\n",
              "    </tr>\n",
              "    <tr>\n",
              "      <th>max</th>\n",
              "      <td>28.110000</td>\n",
              "      <td>39.280000</td>\n",
              "      <td>188.500000</td>\n",
              "      <td>2501.000000</td>\n",
              "      <td>0.163400</td>\n",
              "      <td>0.345400</td>\n",
              "      <td>0.426800</td>\n",
              "      <td>0.201200</td>\n",
              "      <td>0.304000</td>\n",
              "      <td>0.097440</td>\n",
              "      <td>2.873000</td>\n",
              "      <td>4.885000</td>\n",
              "      <td>21.980000</td>\n",
              "      <td>542.200000</td>\n",
              "      <td>0.031130</td>\n",
              "      <td>0.135400</td>\n",
              "      <td>0.396000</td>\n",
              "      <td>0.052790</td>\n",
              "      <td>0.078950</td>\n",
              "      <td>0.029840</td>\n",
              "      <td>36.040000</td>\n",
              "      <td>49.540000</td>\n",
              "      <td>251.200000</td>\n",
              "      <td>4254.000000</td>\n",
              "      <td>0.222600</td>\n",
              "      <td>1.058000</td>\n",
              "      <td>1.252000</td>\n",
              "      <td>0.291000</td>\n",
              "      <td>0.663800</td>\n",
              "      <td>0.207500</td>\n",
              "    </tr>\n",
              "  </tbody>\n",
              "</table>\n",
              "</div>"
            ],
            "text/plain": [
              "       radius_mean  texture_mean  ...  symmetry_worst  fractal_dimension_worst\n",
              "count   569.000000    569.000000  ...      569.000000               569.000000\n",
              "mean     14.127292     19.289649  ...        0.290076                 0.083946\n",
              "std       3.524049      4.301036  ...        0.061867                 0.018061\n",
              "min       6.981000      9.710000  ...        0.156500                 0.055040\n",
              "25%      11.700000     16.170000  ...        0.250400                 0.071460\n",
              "50%      13.370000     18.840000  ...        0.282200                 0.080040\n",
              "75%      15.780000     21.800000  ...        0.317900                 0.092080\n",
              "max      28.110000     39.280000  ...        0.663800                 0.207500\n",
              "\n",
              "[8 rows x 30 columns]"
            ]
          },
          "metadata": {
            "tags": []
          },
          "execution_count": 9
        }
      ]
    },
    {
      "cell_type": "code",
      "metadata": {
        "id": "AmxH0_45yD79"
      },
      "source": [
        "# Removing cols by looking at heatmap (Minimal Feature selection)\n",
        "from sklearn.model_selection import train_test_split\n",
        "drop_col = ['perimeter_mean','radius_mean','compactness_mean','concave points_mean',\n",
        "            'radius_se','perimeter_se','compactness_se','concave points_se',\n",
        "            'radius_worst','perimeter_worst','area_worst','texture_worst','compactness_worst','concave points_worst']\n",
        "df = x.drop(drop_col,axis=1)\n",
        "x_train1,x_test1,y_train1,y_test1 = train_test_split(df,y,test_size=0.3,random_state=42)\n"
      ],
      "execution_count": 10,
      "outputs": []
    },
    {
      "cell_type": "code",
      "metadata": {
        "id": "OnpBWJevzCXH"
      },
      "source": [
        "#Univariate feature selection\n",
        "select_feature = SelectKBest(chi2,k=10).fit(x_train1,y_train1)\n",
        "x_train2 = select_feature.transform(x_train1)\n",
        "x_test2 = select_feature.transform(x_test1)"
      ],
      "execution_count": 11,
      "outputs": []
    },
    {
      "cell_type": "code",
      "metadata": {
        "id": "OUIx3Ljwyn_d"
      },
      "source": [
        "#Importing Libraries\n",
        "import numpy as np\n",
        "import pandas as pd\n",
        "%matplotlib inline\n",
        "import matplotlib.pyplot as plt\n",
        "plt.style.use('ggplot')\n",
        "import seaborn as sns\n",
        "import time\n",
        "#from BorutaShap import BorutaShap\n",
        "from sklearn.model_selection import train_test_split\n",
        "import xgboost as xgb\n",
        "from sklearn.svm import SVC\n",
        "from sklearn.ensemble import RandomForestClassifier \n",
        "from sklearn.linear_model import LogisticRegression\n",
        "from sklearn.naive_bayes import GaussianNB\n",
        "from sklearn.neighbors import KNeighborsClassifier\n",
        "from sklearn.metrics import f1_score,plot_confusion_matrix,accuracy_score\n",
        "from sklearn.feature_selection import SelectKBest,chi2,RFECV\n",
        "from sklearn.decomposition import PCA"
      ],
      "execution_count": 12,
      "outputs": []
    },
    {
      "cell_type": "code",
      "metadata": {
        "id": "I-cFwiref-h8",
        "outputId": "e89ceacb-4e5b-471e-e24c-0f982924760d",
        "colab": {
          "base_uri": "https://localhost:8080/",
          "height": 299
        }
      },
      "source": [
        "#XGBost using Univariate feature selection\n",
        "model2 = xgb.XGBClassifier(random_state=42)\n",
        "model2.fit(x_train2,y_train1)\n",
        "y_pred2 = model2.predict(x_test2)\n",
        "print(\"Accuracy: \",accuracy_score(y_test1,y_pred2))\n",
        "plot_confusion_matrix(model2,x_test2,y_test1,cmap=plt.cm.Blues)\n",
        "plt.grid(False)"
      ],
      "execution_count": 13,
      "outputs": [
        {
          "output_type": "stream",
          "text": [
            "Accuracy:  0.9707602339181286\n"
          ],
          "name": "stdout"
        },
        {
          "output_type": "display_data",
          "data": {
            "image/png": "[encoded data removed]",
            "text/plain": [
              "<Figure size 432x288 with 2 Axes>"
            ]
          },
          "metadata": {
            "tags": []
          }
        }
      ]
    },
    {
      "cell_type": "code",
      "metadata": {
        "id": "YRzw-DLAgGht",
        "outputId": "8c7cf0ff-74f0-42a2-b4a4-dec3af7ee649",
        "colab": {
          "base_uri": "https://localhost:8080/",
          "height": 355
        }
      },
      "source": [
        "#MLPClassifier using Univariate feature selection\n",
        "from sklearn.neural_network import MLPClassifier\n",
        "model3 = MLPClassifier(random_state=42)\n",
        "model3.fit(x_train2,y_train1)\n",
        "y_pred3 = model3.predict(x_test2)\n",
        "print(\"MPLC Accuracy: \",accuracy_score(y_test1,y_pred3))\n",
        "plot_confusion_matrix(model3,x_test2,y_test1,cmap=plt.cm.Blues)\n",
        "plt.grid(False)"
      ],
      "execution_count": 14,
      "outputs": [
        {
          "output_type": "stream",
          "text": [
            "MPLC Accuracy:  0.8713450292397661\n"
          ],
          "name": "stdout"
        },
        {
          "output_type": "stream",
          "text": [
            "/usr/local/lib/python3.6/dist-packages/sklearn/neural_network/_multilayer_perceptron.py:571: ConvergenceWarning: Stochastic Optimizer: Maximum iterations (200) reached and the optimization hasn't converged yet.\n",
            "  % self.max_iter, ConvergenceWarning)\n"
          ],
          "name": "stderr"
        },
        {
          "output_type": "display_data",
          "data": {
            "image/png": "[encoded data removed]",
            "text/plain": [
              "<Figure size 432x288 with 2 Axes>"
            ]
          },
          "metadata": {
            "tags": []
          }
        }
      ]
    },
    {
      "cell_type": "code",
      "metadata": {
        "id": "ebNSGPqyzHG0",
        "outputId": "5be97ed2-5a62-4e44-c8a4-c809c7fe236a",
        "colab": {
          "base_uri": "https://localhost:8080/",
          "height": 299
        }
      },
      "source": [
        "#Logistic Regression using Univariate feature selection\n",
        "model4 = LogisticRegression(C=500,penalty='l2',max_iter=500)\n",
        "model4.fit(x_train2,y_train1)\n",
        "y_pred4 = model4.predict(x_test2)\n",
        "print(\"LogisticRegression Accuracy: \",accuracy_score(y_test1,y_pred4))\n",
        "plot_confusion_matrix(model4,x_test2,y_test1,cmap=plt.cm.Blues)\n",
        "plt.grid(False)"
      ],
      "execution_count": 15,
      "outputs": [
        {
          "output_type": "stream",
          "text": [
            "LogisticRegression Accuracy:  0.9883040935672515\n"
          ],
          "name": "stdout"
        },
        {
          "output_type": "display_data",
          "data": {
            "image/png": "[encoded data removed]",
            "text/plain": [
              "<Figure size 432x288 with 2 Axes>"
            ]
          },
          "metadata": {
            "tags": []
          }
        }
      ]
    },
    {
      "cell_type": "code",
      "metadata": {
        "id": "LrUsy0Yl0y8f",
        "outputId": "b9c7f859-af50-4b0f-b5c6-f1ff300987b0",
        "colab": {
          "base_uri": "https://localhost:8080/",
          "height": 299
        }
      },
      "source": [
        "#SVM using Univariate feature selection\n",
        "model5 = SVC(C=500,gamma='scale',kernel='poly',degree=1)\n",
        "model5.fit(x_train2,y_train1)\n",
        "y_pred5 = model5.predict(x_test2)\n",
        "print(\" SVM Accuracy: \",accuracy_score(y_test1,y_pred5))\n",
        "plot_confusion_matrix(model5,x_test2,y_test1,cmap=plt.cm.Blues)\n",
        "plt.grid(False)"
      ],
      "execution_count": 16,
      "outputs": [
        {
          "output_type": "stream",
          "text": [
            " SVM Accuracy:  0.9473684210526315\n"
          ],
          "name": "stdout"
        },
        {
          "output_type": "display_data",
          "data": {
            "image/png": "[encoded data removed]",
            "text/plain": [
              "<Figure size 432x288 with 2 Axes>"
            ]
          },
          "metadata": {
            "tags": []
          }
        }
      ]
    },
    {
      "cell_type": "code",
      "metadata": {
        "id": "uJC17-_A03Ri",
        "outputId": "b8646f0c-f15c-4d93-fa12-558f24118711",
        "colab": {
          "base_uri": "https://localhost:8080/",
          "height": 299
        }
      },
      "source": [
        "#Random Forest Classifier using Univariate Linear Regression\n",
        "model6 = RandomForestClassifier(n_estimators=1000,max_depth=20,criterion='entropy',bootstrap=True)\n",
        "model6.fit(x_train2,y_train1)\n",
        "y_pred6 = model6.predict(x_test2)\n",
        "print(\"RandomForest Accuracy: \",accuracy_score(y_test1,y_pred6))\n",
        "plot_confusion_matrix(model6,x_test2,y_test1,cmap=plt.cm.Blues)\n",
        "plt.grid(False)"
      ],
      "execution_count": 17,
      "outputs": [
        {
          "output_type": "stream",
          "text": [
            "RandomForest Accuracy:  0.9707602339181286\n"
          ],
          "name": "stdout"
        },
        {
          "output_type": "display_data",
          "data": {
            "image/png": "[encoded data removed]",
            "text/plain": [
              "<Figure size 432x288 with 2 Axes>"
            ]
          },
          "metadata": {
            "tags": []
          }
        }
      ]
    },
    {
      "cell_type": "code",
      "metadata": {
        "id": "K4hZOutDcYUr",
        "outputId": "95fd87ce-90a6-4d8a-acdf-89dbae327089",
        "colab": {
          "base_uri": "https://localhost:8080/",
          "height": 299
        }
      },
      "source": [
        "from sklearn.naive_bayes import BernoulliNB\n",
        "model7 = BernoulliNB( alpha=1.0, binarize=0.0, fit_prior=True, class_prior=None)\n",
        "model7.fit(x_train2,y_train1)\n",
        "y_pred7 = model7.predict(x_test2)\n",
        "print(\"BernoulliNB Accuracy: \",accuracy_score(y_test1,y_pred7))\n",
        "plot_confusion_matrix(model7,x_test2,y_test1,cmap=plt.cm.Blues)\n",
        "plt.grid(False)"
      ],
      "execution_count": 18,
      "outputs": [
        {
          "output_type": "stream",
          "text": [
            "BernoulliNB Accuracy:  0.631578947368421\n"
          ],
          "name": "stdout"
        },
        {
          "output_type": "display_data",
          "data": {
            "image/png": "[encoded data removed]",
            "text/plain": [
              "<Figure size 432x288 with 2 Axes>"
            ]
          },
          "metadata": {
            "tags": []
          }
        }
      ]
    },
    {
      "cell_type": "code",
      "metadata": {
        "id": "vUEIjEaj1APw",
        "outputId": "d1096814-9202-4f4e-c13b-3ea73aed6e55",
        "colab": {
          "base_uri": "https://localhost:8080/",
          "height": 299
        }
      },
      "source": [
        "#Naive Bayes Classifier using Univariate feature selection\n",
        "model8 = GaussianNB()\n",
        "model8.fit(x_train2,y_train1)\n",
        "y_pred8 = model8.predict(x_test2)\n",
        "print(\"GaussianNB Accuracy: \",accuracy_score(y_test1,y_pred8))\n",
        "plot_confusion_matrix(model8,x_test2,y_test1,cmap=plt.cm.Blues)\n",
        "plt.grid(False)"
      ],
      "execution_count": 19,
      "outputs": [
        {
          "output_type": "stream",
          "text": [
            "GaussianNB Accuracy:  0.9298245614035088\n"
          ],
          "name": "stdout"
        },
        {
          "output_type": "display_data",
          "data": {
            "image/png": "[encoded data removed]",
            "text/plain": [
              "<Figure size 432x288 with 2 Axes>"
            ]
          },
          "metadata": {
            "tags": []
          }
        }
      ]
    },
    {
      "cell_type": "code",
      "metadata": {
        "id": "1mne7h7whYNd",
        "outputId": "6ca80abd-0d4a-4b62-d6dd-fde45122a40d",
        "colab": {
          "base_uri": "https://localhost:8080/",
          "height": 299
        }
      },
      "source": [
        "#sgd classifier\n",
        "from sklearn.linear_model import SGDClassifier\n",
        "model9 = SGDClassifier(random_state=42)\n",
        "model9.fit(x_train2,y_train1)\n",
        "y_pred9 = model9.predict(x_test2)\n",
        "print(\"SGDC Accuracy: \",accuracy_score(y_test1,y_pred9))\n",
        "plot_confusion_matrix(model9,x_test2,y_test1,cmap=plt.cm.Blues)\n",
        "plt.grid(False)"
      ],
      "execution_count": 20,
      "outputs": [
        {
          "output_type": "stream",
          "text": [
            "SGDC Accuracy:  0.8538011695906432\n"
          ],
          "name": "stdout"
        },
        {
          "output_type": "display_data",
          "data": {
            "image/png": "[encoded data removed]",
            "text/plain": [
              "<Figure size 432x288 with 2 Axes>"
            ]
          },
          "metadata": {
            "tags": []
          }
        }
      ]
    },
    {
      "cell_type": "code",
      "metadata": {
        "id": "E8LNOEMjh3hY",
        "outputId": "4cb0c444-934a-48dd-e457-57370778fab5",
        "colab": {
          "base_uri": "https://localhost:8080/",
          "height": 299
        }
      },
      "source": [
        "#lda\n",
        "from sklearn.discriminant_analysis import LinearDiscriminantAnalysis\n",
        "model10 = LinearDiscriminantAnalysis()\n",
        "model10.fit(x_train2,y_train1)\n",
        "y_pred10 = model10.predict(x_test2)\n",
        "print(\"LDA Accuracy: \",accuracy_score(y_test1,y_pred10))\n",
        "plot_confusion_matrix(model10,x_test2,y_test1,cmap=plt.cm.Blues)\n",
        "plt.grid(False)"
      ],
      "execution_count": 21,
      "outputs": [
        {
          "output_type": "stream",
          "text": [
            "LDA Accuracy:  0.9415204678362573\n"
          ],
          "name": "stdout"
        },
        {
          "output_type": "display_data",
          "data": {
            "image/png": "[encoded data removed]",
            "text/plain": [
              "<Figure size 432x288 with 2 Axes>"
            ]
          },
          "metadata": {
            "tags": []
          }
        }
      ]
    },
    {
      "cell_type": "code",
      "metadata": {
        "id": "7X3p1ftgoudg"
      },
      "source": [
        "#X = df.drop(columns=['id','Unnamed: 32','diagnosis'])"
      ],
      "execution_count": 22,
      "outputs": []
    },
    {
      "cell_type": "code",
      "metadata": {
        "id": "e9aH8VO2owHo"
      },
      "source": [
        "#X.head()"
      ],
      "execution_count": 23,
      "outputs": []
    },
    {
      "cell_type": "code",
      "metadata": {
        "id": "apY6G6izpMJW",
        "outputId": "6773b7b3-af36-46f9-99d1-423974a96fc1",
        "colab": {
          "base_uri": "https://localhost:8080/"
        }
      },
      "source": [
        "!pip install catboost"
      ],
      "execution_count": 24,
      "outputs": [
        {
          "output_type": "stream",
          "text": [
            "Collecting catboost\n",
            "\u001b[?25l  Downloading https://files.pythonhosted.org/packages/52/39/128fff65072c8327371e3c594f3c826d29c85b21cb6485980353b168e0e4/catboost-0.24.2-cp36-none-manylinux1_x86_64.whl (66.1MB)\n",
            "\u001b[K     |████████████████████████████████| 66.2MB 70kB/s \n",
            "\u001b[?25hRequirement already satisfied: six in /usr/local/lib/python3.6/dist-packages (from catboost) (1.15.0)\n",
            "Requirement already satisfied: plotly in /usr/local/lib/python3.6/dist-packages (from catboost) (4.4.1)\n",
            "Requirement already satisfied: pandas>=0.24.0 in /usr/local/lib/python3.6/dist-packages (from catboost) (1.1.4)\n",
            "Requirement already satisfied: numpy>=1.16.0 in /usr/local/lib/python3.6/dist-packages (from catboost) (1.18.5)\n",
            "Requirement already satisfied: matplotlib in /usr/local/lib/python3.6/dist-packages (from catboost) (3.2.2)\n",
            "Requirement already satisfied: graphviz in /usr/local/lib/python3.6/dist-packages (from catboost) (0.10.1)\n",
            "Requirement already satisfied: scipy in /usr/local/lib/python3.6/dist-packages (from catboost) (1.4.1)\n",
            "Requirement already satisfied: retrying>=1.3.3 in /usr/local/lib/python3.6/dist-packages (from plotly->catboost) (1.3.3)\n",
            "Requirement already satisfied: pytz>=2017.2 in /usr/local/lib/python3.6/dist-packages (from pandas>=0.24.0->catboost) (2018.9)\n",
            "Requirement already satisfied: python-dateutil>=2.7.3 in /usr/local/lib/python3.6/dist-packages (from pandas>=0.24.0->catboost) (2.8.1)\n",
            "Requirement already satisfied: pyparsing!=2.0.4,!=2.1.2,!=2.1.6,>=2.0.1 in /usr/local/lib/python3.6/dist-packages (from matplotlib->catboost) (2.4.7)\n",
            "Requirement already satisfied: cycler>=0.10 in /usr/local/lib/python3.6/dist-packages (from matplotlib->catboost) (0.10.0)\n",
            "Requirement already satisfied: kiwisolver>=1.0.1 in /usr/local/lib/python3.6/dist-packages (from matplotlib->catboost) (1.3.1)\n",
            "Installing collected packages: catboost\n",
            "Successfully installed catboost-0.24.2\n"
          ],
          "name": "stdout"
        }
      ]
    },
    {
      "cell_type": "code",
      "metadata": {
        "id": "hWnkMIEzo7Qh",
        "outputId": "b6c6743f-dbf2-423c-9ec6-262258701f46",
        "colab": {
          "base_uri": "https://localhost:8080/"
        }
      },
      "source": [
        "from sklearn.metrics import accuracy_score\n",
        "from sklearn.linear_model import LogisticRegression\n",
        "from  sklearn.tree import DecisionTreeClassifier\n",
        "from sklearn.ensemble import RandomForestClassifier,AdaBoostClassifier\n",
        "from xgboost import  XGBClassifier\n",
        "from sklearn.svm import SVC\n",
        "from sklearn.naive_bayes import GaussianNB\n",
        "from sklearn.neighbors import KNeighborsClassifier\n",
        "from catboost import CatBoostClassifier\n",
        "import lightgbm as lgb\n",
        "from sklearn.neural_network import MLPClassifier\n",
        "from sklearn.linear_model import SGDClassifier\n",
        "from sklearn.discriminant_analysis import LinearDiscriminantAnalysis\n",
        "\n",
        "lda = LinearDiscriminantAnalysis( ).fit(x_train1,y_train1)   \n",
        "sgd = SGDClassifier(random_state=42).fit(x_train1,y_train1)    \n",
        "mlp = MLPClassifier(random_state=42).fit(x_train1,y_train1)  #neural Network model  \n",
        "bnb = BernoulliNB().fit(x_train1,y_train1)                 \n",
        "lgr = LogisticRegression().fit(x_train1,y_train1)           \n",
        "dtc = DecisionTreeClassifier(random_state=0).fit(x_train1,y_train1)  \n",
        "rfc = RandomForestClassifier(n_estimators= 250,random_state=0).fit(x_train1,y_train1)    \n",
        "xgb = XGBClassifier().fit(x_train1,y_train1)            \n",
        "svm = SVC(C=500,gamma='scale',kernel='poly',degree=1).fit(x_train1,y_train1)  \n",
        "gnb = GaussianNB().fit(x_train1,y_train1)    \n",
        "KNN = KNeighborsClassifier(n_neighbors=3).fit(x_train1,y_train1)    \n",
        "cat = CatBoostClassifier(iterations=70, learning_rate= 1, depth=2).fit(x_train1,y_train1)    \n",
        "lgb = lgb.LGBMClassifier().fit(x_train1,y_train1)    \n",
        "abc = AdaBoostClassifier(n_estimators=200,random_state=0).fit(x_train1,y_train1)  "
      ],
      "execution_count": 213,
      "outputs": [
        {
          "output_type": "stream",
          "text": [
            "/usr/local/lib/python3.6/dist-packages/sklearn/neural_network/_multilayer_perceptron.py:571: ConvergenceWarning: Stochastic Optimizer: Maximum iterations (200) reached and the optimization hasn't converged yet.\n",
            "  % self.max_iter, ConvergenceWarning)\n",
            "/usr/local/lib/python3.6/dist-packages/sklearn/linear_model/_logistic.py:940: ConvergenceWarning: lbfgs failed to converge (status=1):\n",
            "STOP: TOTAL NO. of ITERATIONS REACHED LIMIT.\n",
            "\n",
            "Increase the number of iterations (max_iter) or scale the data as shown in:\n",
            "    https://scikit-learn.org/stable/modules/preprocessing.html\n",
            "Please also refer to the documentation for alternative solver options:\n",
            "    https://scikit-learn.org/stable/modules/linear_model.html#logistic-regression\n",
            "  extra_warning_msg=_LOGISTIC_SOLVER_CONVERGENCE_MSG)\n"
          ],
          "name": "stderr"
        },
        {
          "output_type": "stream",
          "text": [
            "0:\tlearn: 0.3553461\ttotal: 918us\tremaining: 63.4ms\n",
            "1:\tlearn: 0.2321602\ttotal: 2.15ms\tremaining: 73.3ms\n",
            "2:\tlearn: 0.2004692\ttotal: 3.04ms\tremaining: 67.9ms\n",
            "3:\tlearn: 0.1676235\ttotal: 3.88ms\tremaining: 64.1ms\n",
            "4:\tlearn: 0.1432719\ttotal: 4.74ms\tremaining: 61.6ms\n",
            "5:\tlearn: 0.1260884\ttotal: 5.65ms\tremaining: 60.3ms\n",
            "6:\tlearn: 0.1168302\ttotal: 6.54ms\tremaining: 58.9ms\n",
            "7:\tlearn: 0.1157376\ttotal: 7.45ms\tremaining: 57.7ms\n",
            "8:\tlearn: 0.1053044\ttotal: 8.27ms\tremaining: 56.1ms\n",
            "9:\tlearn: 0.0988547\ttotal: 9.1ms\tremaining: 54.6ms\n",
            "10:\tlearn: 0.0926631\ttotal: 9.95ms\tremaining: 53.4ms\n",
            "11:\tlearn: 0.0860368\ttotal: 10.8ms\tremaining: 52.4ms\n",
            "12:\tlearn: 0.0842516\ttotal: 11.8ms\tremaining: 51.7ms\n",
            "13:\tlearn: 0.0791956\ttotal: 12.6ms\tremaining: 50.5ms\n",
            "14:\tlearn: 0.0769490\ttotal: 13.5ms\tremaining: 49.4ms\n",
            "15:\tlearn: 0.0759269\ttotal: 14.3ms\tremaining: 48.4ms\n",
            "16:\tlearn: 0.0750448\ttotal: 15.3ms\tremaining: 47.7ms\n",
            "17:\tlearn: 0.0747457\ttotal: 16.2ms\tremaining: 46.8ms\n",
            "18:\tlearn: 0.0706585\ttotal: 17.1ms\tremaining: 45.8ms\n",
            "19:\tlearn: 0.0696480\ttotal: 18ms\tremaining: 44.9ms\n",
            "20:\tlearn: 0.0693866\ttotal: 18.9ms\tremaining: 44.1ms\n",
            "21:\tlearn: 0.0685922\ttotal: 19.8ms\tremaining: 43.3ms\n",
            "22:\tlearn: 0.0638334\ttotal: 20.7ms\tremaining: 42.4ms\n",
            "23:\tlearn: 0.0634194\ttotal: 21.6ms\tremaining: 41.4ms\n",
            "24:\tlearn: 0.0630924\ttotal: 22.4ms\tremaining: 40.3ms\n",
            "25:\tlearn: 0.0624380\ttotal: 23.3ms\tremaining: 39.4ms\n",
            "26:\tlearn: 0.0621840\ttotal: 24.1ms\tremaining: 38.4ms\n",
            "27:\tlearn: 0.0617799\ttotal: 24.9ms\tremaining: 37.4ms\n",
            "28:\tlearn: 0.0579786\ttotal: 25.9ms\tremaining: 36.6ms\n",
            "29:\tlearn: 0.0558860\ttotal: 26.7ms\tremaining: 35.6ms\n",
            "30:\tlearn: 0.0516366\ttotal: 27.6ms\tremaining: 34.7ms\n",
            "31:\tlearn: 0.0507619\ttotal: 28.4ms\tremaining: 33.7ms\n",
            "32:\tlearn: 0.0465822\ttotal: 29.2ms\tremaining: 32.7ms\n",
            "33:\tlearn: 0.0464437\ttotal: 30ms\tremaining: 31.8ms\n",
            "34:\tlearn: 0.0455000\ttotal: 31ms\tremaining: 31ms\n",
            "35:\tlearn: 0.0448317\ttotal: 31.9ms\tremaining: 30.1ms\n",
            "36:\tlearn: 0.0442249\ttotal: 32.7ms\tremaining: 29.2ms\n",
            "37:\tlearn: 0.0436720\ttotal: 33.5ms\tremaining: 28.2ms\n",
            "38:\tlearn: 0.0431758\ttotal: 34.3ms\tremaining: 27.3ms\n",
            "39:\tlearn: 0.0428487\ttotal: 35.1ms\tremaining: 26.4ms\n",
            "40:\tlearn: 0.0423870\ttotal: 36ms\tremaining: 25.5ms\n",
            "41:\tlearn: 0.0422562\ttotal: 36.8ms\tremaining: 24.6ms\n",
            "42:\tlearn: 0.0402199\ttotal: 37.8ms\tremaining: 23.7ms\n",
            "43:\tlearn: 0.0397401\ttotal: 38.6ms\tremaining: 22.8ms\n",
            "44:\tlearn: 0.0396073\ttotal: 39.4ms\tremaining: 21.9ms\n",
            "45:\tlearn: 0.0393836\ttotal: 40.3ms\tremaining: 21ms\n",
            "46:\tlearn: 0.0370899\ttotal: 41.1ms\tremaining: 20.1ms\n",
            "47:\tlearn: 0.0369272\ttotal: 41.9ms\tremaining: 19.2ms\n",
            "48:\tlearn: 0.0366918\ttotal: 42.8ms\tremaining: 18.3ms\n",
            "49:\tlearn: 0.0352400\ttotal: 43.7ms\tremaining: 17.5ms\n",
            "50:\tlearn: 0.0351695\ttotal: 44.6ms\tremaining: 16.6ms\n",
            "51:\tlearn: 0.0321952\ttotal: 45.5ms\tremaining: 15.7ms\n",
            "52:\tlearn: 0.0308221\ttotal: 46.4ms\tremaining: 14.9ms\n",
            "53:\tlearn: 0.0307297\ttotal: 47.2ms\tremaining: 14ms\n",
            "54:\tlearn: 0.0306484\ttotal: 48.1ms\tremaining: 13.1ms\n",
            "55:\tlearn: 0.0305949\ttotal: 49ms\tremaining: 12.3ms\n",
            "56:\tlearn: 0.0294509\ttotal: 49.9ms\tremaining: 11.4ms\n",
            "57:\tlearn: 0.0293043\ttotal: 50.8ms\tremaining: 10.5ms\n",
            "58:\tlearn: 0.0289571\ttotal: 51.6ms\tremaining: 9.62ms\n",
            "59:\tlearn: 0.0288921\ttotal: 52.5ms\tremaining: 8.74ms\n",
            "60:\tlearn: 0.0286502\ttotal: 53.4ms\tremaining: 7.87ms\n",
            "61:\tlearn: 0.0267201\ttotal: 54.3ms\tremaining: 7ms\n",
            "62:\tlearn: 0.0265822\ttotal: 55.1ms\tremaining: 6.12ms\n",
            "63:\tlearn: 0.0263482\ttotal: 55.9ms\tremaining: 5.24ms\n",
            "64:\tlearn: 0.0253555\ttotal: 56.7ms\tremaining: 4.36ms\n",
            "65:\tlearn: 0.0252761\ttotal: 57.5ms\tremaining: 3.48ms\n",
            "66:\tlearn: 0.0251739\ttotal: 58.3ms\tremaining: 2.61ms\n",
            "67:\tlearn: 0.0250499\ttotal: 59.2ms\tremaining: 1.74ms\n",
            "68:\tlearn: 0.0249557\ttotal: 60ms\tremaining: 870us\n",
            "69:\tlearn: 0.0247591\ttotal: 60.9ms\tremaining: 0us\n"
          ],
          "name": "stdout"
        }
      ]
    },
    {
      "cell_type": "code",
      "metadata": {
        "id": "6nAtdCUhnlvh"
      },
      "source": [
        "lda_pred= lda.predict(x_test1)\n",
        "sgd_pred = sgd.predict(x_test1)\n",
        "mlp_pred = mlp.predict(x_test1)\n",
        "bnb_pred = bnb.predict(x_test1)\n",
        "lgr_pred = lgr.predict(x_test1)\n",
        "dtc_pred = dtc.predict(x_test1)\n",
        "rfc_pred = rfc.predict(x_test1)\n",
        "xgb_pred = xgb.predict(x_test1)\n",
        "svm_pred = svm.predict(x_test1)\n",
        "gnb_pred = gnb.predict(x_test1)\n",
        "knn_pred = KNN.predict(x_test1)\n",
        "cat_pred = cat.predict(x_test1)\n",
        "lgb_pred =lgb.predict(x_test1)\n",
        "abc_pred = abc.predict(x_test1)\n"
      ],
      "execution_count": 214,
      "outputs": []
    },
    {
      "cell_type": "code",
      "metadata": {
        "id": "MySxXBZppZpJ",
        "outputId": "0bad1ae6-a657-4c8f-8780-61bb749a843c",
        "colab": {
          "base_uri": "https://localhost:8080/"
        }
      },
      "source": [
        "names = ['LDA','SGD','MLP','BernouilliNB','LogisticRegression','Tree','RandomForest','XGBoost','SVM','Gaussian NB','KNN','Catboost','Lightboost','Adaboost']\n",
        "models =[accuracy_score(y_test1,lda_pred)*100,accuracy_score(y_test1,sgd_pred)*100,accuracy_score(y_test1,mlp_pred)*100,accuracy_score(y_test1,bnb_pred)*100,accuracy_score(y_test1,lgr_pred)*100,accuracy_score(y_test1,dtc_pred)*100,accuracy_score(y_test1,rfc_pred)*100,accuracy_score(y_test1,xgb_pred)*100,accuracy_score(y_test1,svm_pred)*100,accuracy_score(y_test1,gnb_pred)*100,accuracy_score(y_test1,knn_pred)*100,accuracy_score(y_test1,cat_pred)*100,accuracy_score(y_test1,lgb_pred)*100,accuracy_score(y_test1,abc_pred)*100]\n",
        "print(\"The accuracy is LDA\",accuracy_score(y_test1,lda_pred)*100)\n",
        "print(\"The accuracy is SGDClassifier\",accuracy_score(y_test1,sgd_pred)*100)\n",
        "print(\"The accuracy is MLPClassifier(Neural Network)\",accuracy_score(y_test1,mlp_pred)*100)\n",
        "print(\"The accuracy is BernouilliNB\",accuracy_score(y_test1,bnb_pred)*100)\n",
        "print(\"The accuracy is LogisticRegressioin\",accuracy_score(y_test1,lgr_pred)*100)\n",
        "print(\"The accuracy is Tree\",accuracy_score(y_test1,dtc_pred)*100)\n",
        "print(\"The accuracy is RandomForest\",accuracy_score(y_test1,rfc_pred)*100)\n",
        "print(\"The accuracy is XGBoost\",accuracy_score(y_test1,xgb_pred)*100)\n",
        "print(\"The accuracy is SVM\",accuracy_score(y_test1,svm_pred)*100)\n",
        "print(\"The accuracy is Gaussian NB\", accuracy_score(y_test1,gnb_pred)*100)\n",
        "print(\"The accuaracy is KNN(K-nearest neighbors)\", accuracy_score(y_test1,knn_pred)*100)\n",
        "print(\"The accuracy is Catboost\",accuracy_score(y_test1,cat_pred)*100)\n",
        "print(\"The accuracy is Lightboost\",accuracy_score(y_test1,lgb_pred)*100)\n",
        "print(\"The accuracy is Adaboost\",accuracy_score(y_test1,abc_pred)*100)"
      ],
      "execution_count": 215,
      "outputs": [
        {
          "output_type": "stream",
          "text": [
            "The accuracy is LDA 95.32163742690058\n",
            "The accuracy is SGDClassifier 84.7953216374269\n",
            "The accuracy is MLPClassifier(Neural Network) 88.88888888888889\n",
            "The accuracy is BernouilliNB 63.1578947368421\n",
            "The accuracy is LogisticRegressioin 94.73684210526315\n",
            "The accuracy is Tree 91.81286549707602\n",
            "The accuracy is RandomForest 97.07602339181285\n",
            "The accuracy is XGBoost 97.6608187134503\n",
            "The accuracy is SVM 94.73684210526315\n",
            "The accuracy is Gaussian NB 92.98245614035088\n",
            "The accuaracy is KNN(K-nearest neighbors) 91.22807017543859\n",
            "The accuracy is Catboost 98.24561403508771\n",
            "The accuracy is Lightboost 95.90643274853801\n",
            "The accuracy is Adaboost 95.90643274853801\n"
          ],
          "name": "stdout"
        }
      ]
    },
    {
      "cell_type": "code",
      "metadata": {
        "id": "kQHR5SfnpeVj",
        "outputId": "f5e220c9-a575-4567-c05c-cc1ba66e5095",
        "colab": {
          "base_uri": "https://localhost:8080/"
        }
      },
      "source": [
        "print(models)\n",
        "print(names)"
      ],
      "execution_count": 28,
      "outputs": [
        {
          "output_type": "stream",
          "text": [
            "[95.32163742690058, 84.7953216374269, 88.88888888888889, 63.1578947368421, 94.73684210526315, 91.81286549707602, 97.07602339181285, 97.6608187134503, 94.73684210526315, 92.98245614035088, 90.64327485380117, 95.32163742690058, 95.90643274853801, 95.32163742690058]\n",
            "['LDA', 'SGD', 'MLP', 'BernouilliNB', 'LogisticRegression', 'Tree', 'RandomForest', 'XGBoost', 'SVM', 'Gaussian NB', 'KNN', 'Catboost', 'Lightboost', 'Adaboost']\n"
          ],
          "name": "stdout"
        }
      ]
    },
    {
      "cell_type": "code",
      "metadata": {
        "id": "Mh4ngfJjpf_I",
        "outputId": "50267ff4-b382-465b-d84d-bc46d12aec1b",
        "colab": {
          "base_uri": "https://localhost:8080/",
          "height": 353
        }
      },
      "source": [
        "sns.set_colorcodes=True\n",
        "plt.title('Visualization of accuaracies of Classification Algorithms')\n",
        "sns.barplot(models,names)"
      ],
      "execution_count": 29,
      "outputs": [
        {
          "output_type": "stream",
          "text": [
            "/usr/local/lib/python3.6/dist-packages/seaborn/_decorators.py:43: FutureWarning: Pass the following variables as keyword args: x, y. From version 0.12, the only valid positional argument will be `data`, and passing other arguments without an explicit keyword will result in an error or misinterpretation.\n",
            "  FutureWarning\n"
          ],
          "name": "stderr"
        },
        {
          "output_type": "execute_result",
          "data": {
            "text/plain": [
              "<matplotlib.axes._subplots.AxesSubplot at 0x7f5c6a084358>"
            ]
          },
          "metadata": {
            "tags": []
          },
          "execution_count": 29
        },
        {
          "output_type": "display_data",
          "data": {
            "image/png": "[encoded data removed]",
            "text/plain": [
              "<Figure size 432x288 with 1 Axes>"
            ]
          },
          "metadata": {
            "tags": []
          }
        }
      ]
    },
    {
      "cell_type": "code",
      "metadata": {
        "id": "4zb4oNsM0fqa",
        "outputId": "ea534626-8fd4-493b-c424-d41c4015c458",
        "colab": {
          "base_uri": "https://localhost:8080/",
          "height": 419
        }
      },
      "source": [
        "my_colors = 'rgbkymc'\n",
        "y_pos = np.arange(len(names))\n",
        "plt.bar(y_pos, models, align='center', alpha=0.5,color=my_colors)\n",
        "plt.xticks(y_pos, names,rotation=90)\n",
        "plt.ylabel('Scores')\n",
        "\n",
        "plt.title('Visualization of accuaracies of Classification Algorithms')\n",
        "plt.show()"
      ],
      "execution_count": 30,
      "outputs": [
        {
          "output_type": "stream",
          "text": [
            "/usr/local/lib/python3.6/dist-packages/ipykernel_launcher.py:3: MatplotlibDeprecationWarning: Using a string of single character colors as a color sequence is deprecated. Use an explicit list instead.\n",
            "  This is separate from the ipykernel package so we can avoid doing imports until\n"
          ],
          "name": "stderr"
        },
        {
          "output_type": "display_data",
          "data": {
            "image/png": "[encoded data removed]",
            "text/plain": [
              "<Figure size 432x288 with 1 Axes>"
            ]
          },
          "metadata": {
            "tags": []
          }
        }
      ]
    },
    {
      "cell_type": "markdown",
      "metadata": {
        "id": "D2cw9dGYpuQS"
      },
      "source": [
        "There is a highest accuracy of 98.2%"
      ]
    }
  ]
}